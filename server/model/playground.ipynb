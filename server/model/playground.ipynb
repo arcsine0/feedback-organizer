{
 "cells": [
  {
   "cell_type": "code",
   "execution_count": 19,
   "metadata": {},
   "outputs": [],
   "source": [
    "from transformers import pipeline\n",
    "from fastapi import FastAPI, Body, HTTPException\n",
    "from pydantic import BaseModel"
   ]
  },
  {
   "cell_type": "code",
   "execution_count": 5,
   "metadata": {},
   "outputs": [],
   "source": [
    "app = FastAPI()"
   ]
  },
  {
   "cell_type": "code",
   "execution_count": 22,
   "metadata": {},
   "outputs": [],
   "source": [
    "emotion_model = pipeline(\"text-classification\", model=\"SamLowe/roberta-base-go_emotions\")\n",
    "topic_model = pipeline(\"zero-shot-classification\", model=\"MoritzLaurer/mDeBERTa-v3-base-mnli-xnli\")"
   ]
  },
  {
   "cell_type": "code",
   "execution_count": 23,
   "metadata": {},
   "outputs": [],
   "source": [
    "feedback = \"I am absolutely furious about the persistent bug in your app! It's disrupting my workflow, and attempts to get this resolved have been painfully slow. This is unacceptable, and I demand immediate action to fix this issue and prevent further inconvenience.\"\n",
    "labels = ['Bug Report', 'Server Outtage', 'Customer Service', 'Billing Error']"
   ]
  },
  {
   "cell_type": "code",
   "execution_count": 28,
   "metadata": {},
   "outputs": [
    {
     "name": "stdout",
     "output_type": "stream",
     "text": [
      "Bug Report\n",
      "anger\n"
     ]
    }
   ],
   "source": [
    "topic = topic_model(feedback, labels, multi_label=False)\n",
    "emotion = emotion_model(feedback)\n",
    "\n",
    "print(topic['labels'][0]);\n",
    "print(emotion[0]['label'])"
   ]
  },
  {
   "cell_type": "code",
   "execution_count": 21,
   "metadata": {},
   "outputs": [],
   "source": [
    "class Feedback(BaseModel):\n",
    "    content: str\n",
    "    date: str | None = None\n",
    "\n",
    "class Result:\n",
    "    content: str\n",
    "    emotion: str\n",
    "    tag: str\n",
    "    date: str"
   ]
  },
  {
   "cell_type": "code",
   "execution_count": 29,
   "metadata": {},
   "outputs": [],
   "source": [
    "@app.get('/')\n",
    "def read_root():\n",
    "    return {'Hello': 'World'}\n",
    "\n",
    "@app.post('/process/')\n",
    "async def process_feedback(fd: Feedback):\n",
    "    \n",
    "    emotion = emotion_model(fd.content)\n",
    "    tag = topic_model(fd.content)\n",
    "\n",
    "    res = {\n",
    "        'content': fd.content,\n",
    "        'emotion': await emotion[0]['label'],\n",
    "        'tag': await tag['labels'][0],\n",
    "        'date': fd.date\n",
    "    }    \n",
    "        \n",
    "    return {'response': res}\n",
    "    "
   ]
  }
 ],
 "metadata": {
  "kernelspec": {
   "display_name": "Python 3",
   "language": "python",
   "name": "python3"
  },
  "language_info": {
   "codemirror_mode": {
    "name": "ipython",
    "version": 3
   },
   "file_extension": ".py",
   "mimetype": "text/x-python",
   "name": "python",
   "nbconvert_exporter": "python",
   "pygments_lexer": "ipython3",
   "version": "3.10.11"
  }
 },
 "nbformat": 4,
 "nbformat_minor": 2
}
